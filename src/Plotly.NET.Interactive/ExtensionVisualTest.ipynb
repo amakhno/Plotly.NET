{
 "cells": [
  {
   "cell_type": "markdown",
   "metadata": {},
   "source": [
    "To reproduce the package, run `./Repack.ps1` in powershell. It will clean your cache in `~/.nuget/packages` and pack the library to `Plotly.NET/pkg` folder, which you should specify below (absolute paths only) in `#i` line.\n",
    "\n",
    "The version of the package is always `0.0.0-dev`."
   ]
  },
  {
   "cell_type": "code",
   "execution_count": null,
   "metadata": {
    "dotnet_interactive": {
     "language": "fsharp"
    }
   },
   "outputs": [
    {
     "data": {
      "text/html": [
       "<div><div><strong>Restore sources</strong><ul><li><span> C:/Users/schne/source/repos/plotly/Plotly.NET/pkg</span></li></ul></div><div></div><div><strong>Installed Packages</strong><ul><li><span>Plotly.NET, 0.0.0-dev</span></li><li><span>Plotly.NET.ImageExport, 0.0.0-dev</span></li><li><span>Plotly.NET.Interactive, 0.0.0-dev</span></li></ul></div></div>"
      ]
     },
     "metadata": {},
     "output_type": "display_data"
    }
   ],
   "source": [
    "// be advised, that you always should set absolute paths for local nuget packages - change this to reflect your own setup\n",
    "#i \"nuget: C:/Users/schne/source/repos/plotly/Plotly.NET/pkg\"\n",
    "#r \"nuget: Plotly.NET, 0.0.0-dev\"\n",
    "#r \"nuget: Plotly.NET.ImageExport, 0.0.0-dev\"\n",
    "#r \"nuget: Plotly.NET.Interactive, 0.0.0-dev\""
   ]
  },
  {
   "cell_type": "code",
   "execution_count": null,
   "metadata": {
    "dotnet_interactive": {
     "language": "fsharp"
    }
   },
   "outputs": [
    {
     "data": {
      "text/html": [
       "<div id=\"c1055633-0920-4422-85eb-2c7249ea5c7b\" style=\"width: 600px; height: 600px;\"><!-- Plotly chart will be drawn inside this DIV --></div>\r\n",
       "<script type=\"text/javascript\">\r\n",
       "\n",
       "            var renderPlotly_c10556330920442285eb2c7249ea5c7b = function() {\n",
       "            var fsharpPlotlyRequire = requirejs.config({context:'fsharp-plotly',paths:{plotly:'https://cdn.plot.ly/plotly-2.4.2.min'}}) || require;\n",
       "            fsharpPlotlyRequire(['plotly'], function(Plotly) {\r\n",
       "\n",
       "            var data = [{\"type\":\"scatter\",\"mode\":\"markers\",\"x\":[-20.0,-19.0,-18.0,-17.0,-16.0,-15.0,-14.0,-13.0,-12.0,-11.0,-10.0,-9.0,-8.0,-7.0,-6.0,-5.0,-4.0,-3.0,-2.0,-1.0,0.0,1.0,2.0,3.0,4.0,5.0,6.0,7.0,8.0,9.0,10.0,11.0,12.0,13.0,14.0,15.0,16.0,17.0,18.0,19.0,20.0],\"y\":[400.0,361.0,324.0,289.0,256.0,225.0,196.0,169.0,144.0,121.0,100.0,81.0,64.0,49.0,36.0,25.0,16.0,9.0,4.0,1.0,0.0,1.0,4.0,9.0,16.0,25.0,36.0,49.0,64.0,81.0,100.0,121.0,144.0,169.0,196.0,225.0,256.0,289.0,324.0,361.0,400.0],\"marker\":{}}];\n",
       "            var layout = {};\n",
       "            var config = {};\n",
       "            Plotly.newPlot('c1055633-0920-4422-85eb-2c7249ea5c7b', data, layout, config);\r\n",
       "});\n",
       "            };\n",
       "            if ((typeof(requirejs) !==  typeof(Function)) || (typeof(requirejs.config) !== typeof(Function))) {\n",
       "                var script = document.createElement(\"script\");\n",
       "                script.setAttribute(\"src\", \"https://cdnjs.cloudflare.com/ajax/libs/require.js/2.3.6/require.min.js\");\n",
       "                script.onload = function(){\n",
       "                    renderPlotly_c10556330920442285eb2c7249ea5c7b();\n",
       "                };\n",
       "                document.getElementsByTagName(\"head\")[0].appendChild(script);\n",
       "            }\n",
       "            else {\n",
       "                renderPlotly_c10556330920442285eb2c7249ea5c7b();\n",
       "            }\r\n",
       "</script>\r\n"
      ]
     },
     "metadata": {},
     "output_type": "display_data"
    }
   ],
   "source": [
    "open Plotly.NET\n",
    "\n",
    "let xs = [ -20f..20f ]\n",
    "let ys = [ for x in xs do x ** 2f ]\n",
    "\n",
    "List.zip xs ys\n",
    "|> Chart.Point"
   ]
  },
  {
   "cell_type": "code",
   "execution_count": null,
   "metadata": {
    "dotnet_interactive": {
     "language": "fsharp"
    }
   },
   "outputs": [
    {
     "data": {
      "text/html": [
       "<img\n",
       "    src= \"data:image/jpeg;base64,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\"\n",
       "/>\n"
      ]
     },
     "metadata": {},
     "output_type": "display_data"
    },
    {
     "data": {
      "text/html": [
       "<img\n",
       "    src= \"data:image/png;base64,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\"\n",
       "/>\n"
      ]
     },
     "metadata": {},
     "output_type": "display_data"
    },
    {
     "data": {
      "image/svg+xml": "<svg class=\"main-svg\" xmlns=\"http://www.w3.org/2000/svg\" xmlns:xlink=\"http://www.w3.org/1999/xlink\" width=\"400\" height=\"400\" style=\"\" viewBox=\"0 0 400 400\"><rect x=\"0\" y=\"0\" width=\"400\" height=\"400\" style=\"fill: rgb(255, 255, 255); fill-opacity: 1;\"/><defs id=\"defs-2a5aff\"><g class=\"clips\"><clipPath id=\"clip2a5affxyplot\" class=\"plotclip\"><rect width=\"240\" height=\"220\"/></clipPath><clipPath class=\"axesclip\" id=\"clip2a5affx\"><rect x=\"80\" y=\"0\" width=\"240\" height=\"400\"/></clipPath><clipPath class=\"axesclip\" id=\"clip2a5affy\"><rect x=\"0\" y=\"100\" width=\"400\" height=\"220\"/></clipPath><clipPath class=\"axesclip\" id=\"clip2a5affxy\"><rect x=\"80\" y=\"100\" width=\"240\" height=\"220\"/></clipPath></g><g class=\"gradients\"/><g class=\"patterns\"/></defs><g class=\"bglayer\"/><g class=\"layer-below\"><g class=\"imagelayer\"/><g class=\"shapelayer\"/></g><g class=\"cartesianlayer\"><g class=\"subplot xy\"><g class=\"layer-subplot\"><g class=\"shapelayer\"/><g class=\"imagelayer\"/></g><g class=\"gridlayer\"><g class=\"x\"><path class=\"xgrid crisp\" transform=\"translate(140,0)\" d=\"M0,100v220\" style=\"stroke: rgb(238, 238, 238); stroke-opacity: 1; stroke-width: 1px;\"/><path class=\"xgrid crisp\" transform=\"translate(200,0)\" d=\"M0,100v220\" style=\"stroke: rgb(238, 238, 238); stroke-opacity: 1; stroke-width: 1px;\"/><path class=\"xgrid crisp\" transform=\"translate(260,0)\" d=\"M0,100v220\" style=\"stroke: rgb(238, 238, 238); stroke-opacity: 1; stroke-width: 1px;\"/></g><g class=\"y\"><path class=\"ygrid crisp\" transform=\"translate(0,265)\" d=\"M80,0h240\" style=\"stroke: rgb(238, 238, 238); stroke-opacity: 1; stroke-width: 1px;\"/><path class=\"ygrid crisp\" transform=\"translate(0,210)\" d=\"M80,0h240\" style=\"stroke: rgb(238, 238, 238); stroke-opacity: 1; stroke-width: 1px;\"/><path class=\"ygrid crisp\" transform=\"translate(0,155)\" d=\"M80,0h240\" style=\"stroke: rgb(238, 238, 238); stroke-opacity: 1; stroke-width: 1px;\"/></g></g><g class=\"zerolinelayer\"><path class=\"xzl zl crisp\" transform=\"translate(80,0)\" d=\"M0,100v220\" style=\"stroke: rgb(68, 68, 68); stroke-opacity: 1; stroke-width: 1px;\"/></g><path class=\"xlines-below\"/><path class=\"ylines-below\"/><g class=\"overlines-below\"/><g class=\"xaxislayer-below\"/><g class=\"yaxislayer-below\"/><g class=\"overaxes-below\"/><g class=\"plot\" transform=\"translate(80,100)\" clip-path=\"url(#clip2a5affxyplot)\"><g class=\"scatterlayer mlayer\"><g class=\"trace scatter tracecdd5c1\" style=\"stroke-miterlimit: 2; opacity: 1;\"><g class=\"fills\"/><g class=\"errorbars\"/><g class=\"lines\"/><g class=\"points\"><path class=\"point\" transform=\"translate(120,110)\" d=\"M3,0A3,3 0 1,1 0,-3A3,3 0 0,1 3,0Z\" style=\"opacity: 1; stroke-width: 0px; fill: rgb(31, 119, 180); fill-opacity: 1;\"/></g><g class=\"text\"/></g></g></g><g class=\"overplot\"/><path class=\"xlines-above crisp\" d=\"M0,0\" style=\"fill: none;\"/><path class=\"ylines-above crisp\" d=\"M0,0\" style=\"fill: none;\"/><g class=\"overlines-above\"/><g class=\"xaxislayer-above\"><g class=\"xtick\"><text text-anchor=\"middle\" x=\"0\" y=\"333\" transform=\"translate(80,0)\" style=\"font-family: 'Open Sans', verdana, arial, sans-serif; font-size: 12px; fill: rgb(68, 68, 68); fill-opacity: 1; white-space: pre; opacity: 1;\">0</text></g><g class=\"xtick\"><text text-anchor=\"middle\" x=\"0\" y=\"333\" style=\"font-family: 'Open Sans', verdana, arial, sans-serif; font-size: 12px; fill: rgb(68, 68, 68); fill-opacity: 1; white-space: pre; opacity: 1;\" transform=\"translate(140,0)\">0.5</text></g><g class=\"xtick\"><text text-anchor=\"middle\" x=\"0\" y=\"333\" style=\"font-family: 'Open Sans', verdana, arial, sans-serif; font-size: 12px; fill: rgb(68, 68, 68); fill-opacity: 1; white-space: pre; opacity: 1;\" transform=\"translate(200,0)\">1</text></g><g class=\"xtick\"><text text-anchor=\"middle\" x=\"0\" y=\"333\" style=\"font-family: 'Open Sans', verdana, arial, sans-serif; font-size: 12px; fill: rgb(68, 68, 68); fill-opacity: 1; white-space: pre; opacity: 1;\" transform=\"translate(260,0)\">1.5</text></g><g class=\"xtick\"><text text-anchor=\"middle\" x=\"0\" y=\"333\" style=\"font-family: 'Open Sans', verdana, arial, sans-serif; font-size: 12px; fill: rgb(68, 68, 68); fill-opacity: 1; white-space: pre; opacity: 1;\" transform=\"translate(320,0)\">2</text></g></g><g class=\"yaxislayer-above\"><g class=\"ytick\"><text text-anchor=\"end\" x=\"79\" y=\"4.199999999999999\" transform=\"translate(0,320)\" style=\"font-family: 'Open Sans', verdana, arial, sans-serif; font-size: 12px; fill: rgb(68, 68, 68); fill-opacity: 1; white-space: pre; opacity: 1;\">1</text></g><g class=\"ytick\"><text text-anchor=\"end\" x=\"79\" y=\"4.199999999999999\" style=\"font-family: 'Open Sans', verdana, arial, sans-serif; font-size: 12px; fill: rgb(68, 68, 68); fill-opacity: 1; white-space: pre; opacity: 1;\" transform=\"translate(0,265)\">1.5</text></g><g class=\"ytick\"><text text-anchor=\"end\" x=\"79\" y=\"4.199999999999999\" style=\"font-family: 'Open Sans', verdana, arial, sans-serif; font-size: 12px; fill: rgb(68, 68, 68); fill-opacity: 1; white-space: pre; opacity: 1;\" transform=\"translate(0,210)\">2</text></g><g class=\"ytick\"><text text-anchor=\"end\" x=\"79\" y=\"4.199999999999999\" style=\"font-family: 'Open Sans', verdana, arial, sans-serif; font-size: 12px; fill: rgb(68, 68, 68); fill-opacity: 1; white-space: pre; opacity: 1;\" transform=\"translate(0,155)\">2.5</text></g><g class=\"ytick\"><text text-anchor=\"end\" x=\"79\" y=\"4.199999999999999\" style=\"font-family: 'Open Sans', verdana, arial, sans-serif; font-size: 12px; fill: rgb(68, 68, 68); fill-opacity: 1; white-space: pre; opacity: 1;\" transform=\"translate(0,100)\">3</text></g></g><g class=\"overaxes-above\"/></g></g><g class=\"polarlayer\"/><g class=\"ternarylayer\"/><g class=\"geolayer\"/><g class=\"funnelarealayer\"/><g class=\"pielayer\"/><g class=\"iciclelayer\"/><g class=\"treemaplayer\"/><g class=\"sunburstlayer\"/><g class=\"glimages\"/><defs id=\"topdefs-2a5aff\"><g class=\"clips\"/></defs><g class=\"layer-above\"><g class=\"imagelayer\"/><g class=\"shapelayer\"/></g><g class=\"infolayer\"><g class=\"g-gtitle\"/><g class=\"g-xtitle\"/><g class=\"g-ytitle\"/></g></svg>"
     },
     "metadata": {},
     "output_type": "display_data"
    }
   ],
   "source": [
    "open Plotly.NET\n",
    "open Plotly.NET.ImageExport\n",
    "\n",
    "let chartJPEG = \n",
    "    Chart.Point([1.,2.])\n",
    "    |> Chart.toBase64JPGString(Width=400, Height=400)\n",
    "\n",
    "let chartPNG = \n",
    "    Chart.Point([1.,2.])\n",
    "    |> Chart.toBase64PNGString(Width=400, Height=400)\n",
    "\n",
    "let chartSVG = \n",
    "    Chart.Point([1.,2.])\n",
    "    |> Chart.toSVGString(Width=400, Height=400)\n",
    "\n",
    "let imageHtml chartImage = $\"\"\"<img\n",
    "    src= \"{chartImage}\"\n",
    "/>\n",
    "\"\"\"\n",
    "\n",
    "DisplayExtensions.DisplayAs(imageHtml chartJPEG,\"text/html\")\n",
    "DisplayExtensions.DisplayAs(imageHtml chartPNG,\"text/html\")\n",
    "DisplayExtensions.DisplayAs(chartSVG,\"image/svg+xml\")\n"
   ]
  }
 ],
 "metadata": {
  "kernelspec": {
   "display_name": ".NET (C#)",
   "language": "C#",
   "name": ".net-csharp"
  },
  "language_info": {
   "file_extension": ".cs",
   "mimetype": "text/x-csharp",
   "name": "C#",
   "pygments_lexer": "csharp",
   "version": "9.0"
  }
 },
 "nbformat": 4,
 "nbformat_minor": 4
}
